{
 "cells": [
  {
   "cell_type": "code",
   "execution_count": 10,
   "id": "2089dab0",
   "metadata": {},
   "outputs": [],
   "source": [
    "import smtplib"
   ]
  },
  {
   "cell_type": "code",
   "execution_count": 11,
   "id": "8fa459a5",
   "metadata": {},
   "outputs": [],
   "source": [
    "smtplib_object= smtplib.SMTP(\"smtp.gmail.com\", 587) # 587 is port no, try 465 or leave blank if both dont work"
   ]
  },
  {
   "cell_type": "code",
   "execution_count": 12,
   "id": "29aebf7a",
   "metadata": {},
   "outputs": [
    {
     "data": {
      "text/plain": [
       "(250,\n",
       " b'smtp.gmail.com at your service, [89.186.159.220]\\nSIZE 35882577\\n8BITMIME\\nSTARTTLS\\nENHANCEDSTATUSCODES\\nPIPELINING\\nCHUNKING\\nSMTPUTF8')"
      ]
     },
     "execution_count": 12,
     "metadata": {},
     "output_type": "execute_result"
    }
   ],
   "source": [
    "smtplib_object.ehlo() #smtp commands to start conversation"
   ]
  },
  {
   "cell_type": "code",
   "execution_count": 13,
   "id": "1fe608d4",
   "metadata": {},
   "outputs": [
    {
     "data": {
      "text/plain": [
       "(220, b'2.0.0 Ready to start TLS')"
      ]
     },
     "execution_count": 13,
     "metadata": {},
     "output_type": "execute_result"
    }
   ],
   "source": [
    "smtplib_object.starttls() # transport layer security. encropting passwords and safe browsing"
   ]
  },
  {
   "cell_type": "code",
   "execution_count": 14,
   "id": "4a3dc4b6",
   "metadata": {},
   "outputs": [],
   "source": [
    "#password=input(\"Password Plz: \")"
   ]
  },
  {
   "cell_type": "code",
   "execution_count": 15,
   "id": "4d8b1c56",
   "metadata": {},
   "outputs": [],
   "source": [
    "import getpass"
   ]
  },
  {
   "cell_type": "code",
   "execution_count": 16,
   "id": "f2bda6ea",
   "metadata": {},
   "outputs": [
    {
     "name": "stdout",
     "output_type": "stream",
     "text": [
      "Email: ········\n",
      "Password: ········\n"
     ]
    },
    {
     "data": {
      "text/plain": [
       "(235, b'2.7.0 Accepted')"
      ]
     },
     "execution_count": 16,
     "metadata": {},
     "output_type": "execute_result"
    }
   ],
   "source": [
    "email=getpass.getpass(\"Email: \")\n",
    "password=getpass.getpass(\"Password: \")\n",
    "smtplib_object.login(email,password)"
   ]
  },
  {
   "cell_type": "code",
   "execution_count": 17,
   "id": "55eb7411",
   "metadata": {},
   "outputs": [
    {
     "name": "stdout",
     "output_type": "stream",
     "text": [
      "enter the subject line: New TEST PYTHON\n",
      "enterbody of message: Hello this is a test email\n"
     ]
    },
    {
     "data": {
      "text/plain": [
       "{}"
      ]
     },
     "execution_count": 17,
     "metadata": {},
     "output_type": "execute_result"
    }
   ],
   "source": [
    "from_address=email\n",
    "to_address=email\n",
    "subject=input(\"enter the subject line: \")\n",
    "message= input(\"enterbody of message: \")\n",
    "msg= \"Subject: \"+subject+'\\n'+message\n",
    "\n",
    "smtplib_object.sendmail(from_address, to_address, msg)"
   ]
  },
  {
   "cell_type": "code",
   "execution_count": 18,
   "id": "ed96482f",
   "metadata": {},
   "outputs": [
    {
     "data": {
      "text/plain": [
       "(221,\n",
       " b'2.0.0 closing connection n7-20020a1c7207000000b003cf6a55d8e8sm25183999wmc.7 - gsmtp')"
      ]
     },
     "execution_count": 18,
     "metadata": {},
     "output_type": "execute_result"
    }
   ],
   "source": [
    "smtplib_object.quit()"
   ]
  },
  {
   "cell_type": "code",
   "execution_count": null,
   "id": "c46c6c32",
   "metadata": {},
   "outputs": [],
   "source": []
  }
 ],
 "metadata": {
  "kernelspec": {
   "display_name": "Python 3 (ipykernel)",
   "language": "python",
   "name": "python3"
  },
  "language_info": {
   "codemirror_mode": {
    "name": "ipython",
    "version": 3
   },
   "file_extension": ".py",
   "mimetype": "text/x-python",
   "name": "python",
   "nbconvert_exporter": "python",
   "pygments_lexer": "ipython3",
   "version": "3.9.12"
  }
 },
 "nbformat": 4,
 "nbformat_minor": 5
}
