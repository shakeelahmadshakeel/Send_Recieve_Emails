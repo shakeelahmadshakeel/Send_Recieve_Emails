{
 "cells": [
  {
   "cell_type": "code",
   "execution_count": 28,
   "id": "0100e684",
   "metadata": {},
   "outputs": [],
   "source": [
    "import imaplib"
   ]
  },
  {
   "cell_type": "code",
   "execution_count": 29,
   "id": "1a2f6e66",
   "metadata": {},
   "outputs": [],
   "source": [
    "M=imaplib.IMAP4_SSL(\"imap.gmail.com\")"
   ]
  },
  {
   "cell_type": "code",
   "execution_count": 30,
   "id": "a9c83927",
   "metadata": {},
   "outputs": [],
   "source": [
    "import getpass"
   ]
  },
  {
   "cell_type": "code",
   "execution_count": 31,
   "id": "04d27d61",
   "metadata": {},
   "outputs": [
    {
     "name": "stdout",
     "output_type": "stream",
     "text": [
      "Email: ········\n",
      "Password: ········\n"
     ]
    }
   ],
   "source": [
    "email= getpass.getpass(\"Email: \")\n",
    "password= getpass.getpass(\"Password: \")\n"
   ]
  },
  {
   "cell_type": "code",
   "execution_count": 32,
   "id": "585b6d06",
   "metadata": {},
   "outputs": [
    {
     "data": {
      "text/plain": [
       "('OK', [b'shakeel.nazir918@gmail.com authenticated (Success)'])"
      ]
     },
     "execution_count": 32,
     "metadata": {},
     "output_type": "execute_result"
    }
   ],
   "source": [
    "M.login(email,password)"
   ]
  },
  {
   "cell_type": "code",
   "execution_count": 33,
   "id": "893a3d96",
   "metadata": {},
   "outputs": [
    {
     "data": {
      "text/plain": [
       "('OK',\n",
       " [b'(\\\\HasNoChildren) \"/\" \"Boxbe Waiting List\"',\n",
       "  b'(\\\\HasNoChildren) \"/\" \"INBOX\"',\n",
       "  b'(\\\\HasChildren \\\\Noselect) \"/\" \"[Gmail]\"',\n",
       "  b'(\\\\All \\\\HasNoChildren) \"/\" \"[Gmail]/All Mail\"',\n",
       "  b'(\\\\Drafts \\\\HasNoChildren) \"/\" \"[Gmail]/Drafts\"',\n",
       "  b'(\\\\HasNoChildren \\\\Important) \"/\" \"[Gmail]/Important\"',\n",
       "  b'(\\\\HasNoChildren \\\\Sent) \"/\" \"[Gmail]/Sent Mail\"',\n",
       "  b'(\\\\HasNoChildren \\\\Junk) \"/\" \"[Gmail]/Spam\"',\n",
       "  b'(\\\\Flagged \\\\HasNoChildren) \"/\" \"[Gmail]/Starred\"',\n",
       "  b'(\\\\HasNoChildren \\\\Trash) \"/\" \"[Gmail]/Trash\"'])"
      ]
     },
     "execution_count": 33,
     "metadata": {},
     "output_type": "execute_result"
    }
   ],
   "source": [
    "M.list()"
   ]
  },
  {
   "cell_type": "code",
   "execution_count": 34,
   "id": "2fe30eca",
   "metadata": {},
   "outputs": [
    {
     "data": {
      "text/plain": [
       "('OK', [b'12829'])"
      ]
     },
     "execution_count": 34,
     "metadata": {},
     "output_type": "execute_result"
    }
   ],
   "source": [
    "M.select(\"inbox\")"
   ]
  },
  {
   "cell_type": "code",
   "execution_count": 35,
   "id": "bb632951",
   "metadata": {},
   "outputs": [],
   "source": [
    "typ,data=M.search(None, 'SUBJECT \"NEW TEST PYTHON\"')"
   ]
  },
  {
   "cell_type": "code",
   "execution_count": 36,
   "id": "5471296b",
   "metadata": {},
   "outputs": [
    {
     "data": {
      "text/plain": [
       "'OK'"
      ]
     },
     "execution_count": 36,
     "metadata": {},
     "output_type": "execute_result"
    }
   ],
   "source": [
    "typ"
   ]
  },
  {
   "cell_type": "code",
   "execution_count": 37,
   "id": "67ac8b85",
   "metadata": {},
   "outputs": [
    {
     "data": {
      "text/plain": [
       "[b'12829']"
      ]
     },
     "execution_count": 37,
     "metadata": {},
     "output_type": "execute_result"
    }
   ],
   "source": [
    "data # unique id, there might be more if subject line matches others"
   ]
  },
  {
   "cell_type": "code",
   "execution_count": 38,
   "id": "fb8cdcfa",
   "metadata": {},
   "outputs": [],
   "source": [
    "email_id=data[0]"
   ]
  },
  {
   "cell_type": "code",
   "execution_count": 39,
   "id": "3b1e0f8d",
   "metadata": {},
   "outputs": [],
   "source": [
    "result, email_data= M.fetch(email_id, \"(RFC822)\") # protocol RFC822"
   ]
  },
  {
   "cell_type": "code",
   "execution_count": 40,
   "id": "a8816563",
   "metadata": {},
   "outputs": [
    {
     "data": {
      "text/plain": [
       "'OK'"
      ]
     },
     "execution_count": 40,
     "metadata": {},
     "output_type": "execute_result"
    }
   ],
   "source": [
    "result"
   ]
  },
  {
   "cell_type": "code",
   "execution_count": 41,
   "id": "103da6ba",
   "metadata": {},
   "outputs": [
    {
     "data": {
      "text/plain": [
       "[(b'12829 (RFC822 {594}',\n",
       "  b'Bcc: shakeel.nazir918@gmail.com\\r\\nReturn-Path: <shakeel.nazir918@gmail.com>\\r\\nReceived: from Malik.Wireless-N ([89.186.159.220])\\r\\n        by smtp.gmail.com with ESMTPSA id n7-20020a1c7207000000b003cf6a55d8e8sm25183999wmc.7.2022.12.29.13.25.22\\r\\n        for <shakeel.nazir918@gmail.com>\\r\\n        (version=TLS1_3 cipher=TLS_AES_256_GCM_SHA384 bits=256/256);\\r\\n        Thu, 29 Dec 2022 13:25:22 -0800 (PST)\\r\\nMessage-ID: <63ae05c2.1c0a0220.aeef0.269f@mx.google.com>\\r\\nDate: Thu, 29 Dec 2022 13:25:22 -0800 (PST)\\r\\nFrom: shakeel.nazir918@gmail.com\\r\\nSubject: New TEST PYTHON\\r\\n\\r\\nHello this is a test email\\r\\n'),\n",
       " b')']"
      ]
     },
     "execution_count": 41,
     "metadata": {},
     "output_type": "execute_result"
    }
   ],
   "source": [
    "email_data"
   ]
  },
  {
   "cell_type": "code",
   "execution_count": 42,
   "id": "01cba687",
   "metadata": {},
   "outputs": [],
   "source": [
    "raw_email= email_data[0][1]"
   ]
  },
  {
   "cell_type": "code",
   "execution_count": 43,
   "id": "02cd45f0",
   "metadata": {},
   "outputs": [],
   "source": [
    "raw_email_string= raw_email.decode(\"utf-8\")"
   ]
  },
  {
   "cell_type": "code",
   "execution_count": 44,
   "id": "e73edfc2",
   "metadata": {},
   "outputs": [
    {
     "data": {
      "text/plain": [
       "b'Bcc: shakeel.nazir918@gmail.com\\r\\nReturn-Path: <shakeel.nazir918@gmail.com>\\r\\nReceived: from Malik.Wireless-N ([89.186.159.220])\\r\\n        by smtp.gmail.com with ESMTPSA id n7-20020a1c7207000000b003cf6a55d8e8sm25183999wmc.7.2022.12.29.13.25.22\\r\\n        for <shakeel.nazir918@gmail.com>\\r\\n        (version=TLS1_3 cipher=TLS_AES_256_GCM_SHA384 bits=256/256);\\r\\n        Thu, 29 Dec 2022 13:25:22 -0800 (PST)\\r\\nMessage-ID: <63ae05c2.1c0a0220.aeef0.269f@mx.google.com>\\r\\nDate: Thu, 29 Dec 2022 13:25:22 -0800 (PST)\\r\\nFrom: shakeel.nazir918@gmail.com\\r\\nSubject: New TEST PYTHON\\r\\n\\r\\nHello this is a test email\\r\\n'"
      ]
     },
     "execution_count": 44,
     "metadata": {},
     "output_type": "execute_result"
    }
   ],
   "source": [
    "raw_email"
   ]
  },
  {
   "cell_type": "code",
   "execution_count": 45,
   "id": "0643627a",
   "metadata": {},
   "outputs": [],
   "source": [
    "import email"
   ]
  },
  {
   "cell_type": "code",
   "execution_count": 46,
   "id": "53bc2f20",
   "metadata": {},
   "outputs": [],
   "source": [
    "email_message=email.message_from_string(raw_email_string)"
   ]
  },
  {
   "cell_type": "code",
   "execution_count": 47,
   "id": "fa51e803",
   "metadata": {},
   "outputs": [
    {
     "data": {
      "text/plain": [
       "<email.message.Message at 0x1cb4cf17f70>"
      ]
     },
     "execution_count": 47,
     "metadata": {},
     "output_type": "execute_result"
    }
   ],
   "source": [
    "email_message"
   ]
  },
  {
   "cell_type": "code",
   "execution_count": 49,
   "id": "0fd8d409",
   "metadata": {},
   "outputs": [
    {
     "name": "stdout",
     "output_type": "stream",
     "text": [
      "b'Hello this is a test email\\r\\n'\n"
     ]
    }
   ],
   "source": [
    "for part in email_message.walk():\n",
    "    if part.get_content_type()==\"text/plain\":\n",
    "        #write text/plain if email body doesnt have any @ for decode\n",
    "        body= part.get_payload(decode=True)\n",
    "        print(body)"
   ]
  },
  {
   "cell_type": "code",
   "execution_count": null,
   "id": "0c1c36fc",
   "metadata": {},
   "outputs": [],
   "source": []
  }
 ],
 "metadata": {
  "kernelspec": {
   "display_name": "Python 3 (ipykernel)",
   "language": "python",
   "name": "python3"
  },
  "language_info": {
   "codemirror_mode": {
    "name": "ipython",
    "version": 3
   },
   "file_extension": ".py",
   "mimetype": "text/x-python",
   "name": "python",
   "nbconvert_exporter": "python",
   "pygments_lexer": "ipython3",
   "version": "3.9.12"
  }
 },
 "nbformat": 4,
 "nbformat_minor": 5
}
